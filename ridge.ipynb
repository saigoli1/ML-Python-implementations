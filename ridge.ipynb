{
  "nbformat": 4,
  "nbformat_minor": 0,
  "metadata": {
    "colab": {
      "name": "ridge.ipynb",
      "version": "0.3.2",
      "provenance": [],
      "collapsed_sections": [],
      "include_colab_link": true
    },
    "kernelspec": {
      "name": "python3",
      "display_name": "Python 3"
    },
    "accelerator": "GPU"
  },
  "cells": [
    {
      "cell_type": "markdown",
      "metadata": {
        "id": "view-in-github",
        "colab_type": "text"
      },
      "source": [
        "<a href=\"https://colab.research.google.com/github/saikgoli/ML-Python-implementations/blob/master/ridge.ipynb\" target=\"_parent\"><img src=\"https://colab.research.google.com/assets/colab-badge.svg\" alt=\"Open In Colab\"/></a>"
      ]
    },
    {
      "cell_type": "code",
      "metadata": {
        "id": "1UwuMKD2bLyy",
        "colab_type": "code",
        "colab": {}
      },
      "source": [
        "import numpy as np\n",
        "import pandas as pd\n",
        "import matplotlib.pyplot as plt\n",
        "import seaborn as sns\n"
      ],
      "execution_count": 0,
      "outputs": []
    },
    {
      "cell_type": "code",
      "metadata": {
        "id": "bGonBGU-bQvb",
        "colab_type": "code",
        "colab": {}
      },
      "source": [
        "df = pd.read_csv('sample_data/california_housing_train.csv')"
      ],
      "execution_count": 0,
      "outputs": []
    },
    {
      "cell_type": "code",
      "metadata": {
        "id": "poiA2whsDVyq",
        "colab_type": "code",
        "colab": {}
      },
      "source": [
        "def get_normalize(df):\n",
        "  return (df-df.mean())/df.std()\n",
        "\n",
        "def show_fig(MSE_,MSE0):  \n",
        "  plt.figure(figsize=(10,5))\n",
        "  plt.plot(MSE_)\n",
        "  plt.plot(MSE0)\n",
        "  plt.axis([0, ITER, 0, 1])\n",
        "  plt.grid(axis='y')\n",
        "  plt.show()\n"
      ],
      "execution_count": 0,
      "outputs": []
    },
    {
      "cell_type": "code",
      "metadata": {
        "id": "Ky6VdlyKGUcy",
        "colab_type": "code",
        "colab": {}
      },
      "source": [
        "df.isnull().sum()\n",
        "df = get_normalize(df)"
      ],
      "execution_count": 0,
      "outputs": []
    },
    {
      "cell_type": "code",
      "metadata": {
        "id": "G5Z1JroIG5YO",
        "colab_type": "code",
        "colab": {}
      },
      "source": [
        "\n",
        "y_train = df['median_house_value']\n",
        "X_train = df[df.columns[:-1]]\n"
      ],
      "execution_count": 0,
      "outputs": []
    },
    {
      "cell_type": "code",
      "metadata": {
        "id": "qt6UobiogCCP",
        "colab_type": "code",
        "colab": {}
      },
      "source": [
        "def get_r2(beta,X,y):\n",
        "  residuals = y-np.dot(X,beta)\n",
        "  RSS = np.linalg.norm(residuals)\n",
        "  y_mean = np.mean(y)\n",
        "  TSS = np.linalg.norm(y-y_mean)\n",
        "  return 1- RSS/TSS\n",
        "  "
      ],
      "execution_count": 0,
      "outputs": []
    },
    {
      "cell_type": "code",
      "metadata": {
        "id": "NTiwIoy_rGTc",
        "colab_type": "code",
        "colab": {}
      },
      "source": [
        "\n",
        "\n",
        "def ridge(X_train,y_train,lambda_=1,iter=1000,alpha = 0.01):\n",
        "\n",
        "  y = y_train[:,np.newaxis]  \n",
        "  #print(X_train)\n",
        "  X = X_train.copy()\n",
        "  X.insert(loc=0,value=1,column='const')\n",
        "  xcollen = X.shape[1] #get no.of colums\n",
        "\n",
        "  #Initilaze Constants and Vectors\n",
        "  beta = np.zeros(shape=(xcollen,1))\n",
        "  right = np.ones(shape=(xcollen,1))\n",
        "  ITER = iter\n",
        "  MSE=np.zeros(ITER)\n",
        "\n",
        "  for i in range(ITER):\n",
        "    #//*=> -(y-x.B)*X\n",
        "    inner_dot = (y-np.dot(X,beta))\n",
        "    left = -1*(inner_dot*X ).sum()\n",
        "    left = left[:,np.newaxis]\n",
        "\n",
        "    #ridge part of gradient \n",
        "    right[1:] = beta[1:]*lambda_\n",
        "    right = np.multiply(right,beta)\n",
        "\n",
        "    gradient  = left + right\n",
        "    grad_norm = get_normalize(gradient)\n",
        "\n",
        "    MSE[i] = np.linalg.norm(y-np.dot(X,beta))**2 / len(X)  \n",
        "\n",
        "    #update beta\n",
        "    beta = beta - alpha*grad_norm\n",
        "\n",
        "  return beta\n"
      ],
      "execution_count": 0,
      "outputs": []
    },
    {
      "cell_type": "code",
      "metadata": {
        "id": "yUvNsU7m1y0G",
        "colab_type": "code",
        "outputId": "ae6683b5-a795-4ae3-d9f4-8c85cbb6ad19",
        "colab": {
          "base_uri": "https://localhost:8080/",
          "height": 1358
        }
      },
      "source": [
        "ridge2(X_train,y_train)\n",
        "\n"
      ],
      "execution_count": 51,
      "outputs": [
        {
          "output_type": "stream",
          "text": [
            "       const  longitude  latitude  ...  population  households  median_income\n",
            "0          1   2.619288 -0.671500  ...   -0.361173   -0.075996      -1.252506\n",
            "1          1   2.539494 -0.573248  ...   -0.261858   -0.099401      -1.081451\n",
            "2          1   2.494610 -0.905436  ...   -0.955326   -0.999223      -1.170071\n",
            "3          1   2.489623 -0.928830  ...   -0.796769   -0.715753      -0.362590\n",
            "4          1   2.489623 -0.961581  ...   -0.701809   -0.622130      -1.026424\n",
            "5          1   2.484636 -0.933508  ...   -0.660863   -0.681945      -0.282879\n",
            "6          1   2.484636 -0.942866  ...    0.358431    0.342707      -0.632431\n",
            "7          1   2.479649 -0.372063  ...   -0.918736   -0.892596      -1.139989\n",
            "8          1   2.479649 -0.942866  ...    1.484882    1.442778      -0.893731\n",
            "9          1   2.474662 -0.372063  ...   -0.559805   -0.598724      -0.887127\n",
            "10         1   2.474662 -0.938187  ...    0.875048    0.839429      -0.630912\n",
            "11         1   2.474662 -0.947545  ...   -0.215684   -0.167018      -1.183644\n",
            "12         1   2.469674 -0.367384  ...   -0.740142   -0.754763      -0.904789\n",
            "13         1   2.469674 -0.372063  ...   -0.072809   -0.057791      -0.351951\n",
            "14         1   2.459700 -1.340556  ...   -0.418672   -0.523306      -1.585341\n",
            "15         1   2.449726 -0.343991  ...   -0.369885   -0.260641      -1.144811\n",
            "16         1   2.449726 -0.947545  ...   -0.665219   -0.637734      -0.481238\n",
            "17         1   2.449726 -1.326520  ...   -1.189677   -1.233280      -1.586074\n",
            "18         1   2.444739 -1.349914  ...   -0.570259   -0.471293      -1.403804\n",
            "19         1   2.439752 -0.797826  ...   -1.220168   -1.264488      -1.371993\n",
            "20         1   2.434765 -0.999010  ...   -0.256630   -0.515504      -1.176045\n",
            "21         1   2.409829 -1.027083  ...   -1.047672   -0.942009      -1.565479\n",
            "22         1   2.305100 -0.503067  ...   -1.141761   -1.152660      -1.183644\n",
            "23         1   2.285151 -0.844613  ...   -1.126080   -1.168264      -0.353157\n",
            "24         1   2.165460 -0.975617  ...    1.737527   -0.567517      -1.183644\n",
            "25         1   2.115589 -1.312484  ...   -0.960553   -1.072041      -0.120943\n",
            "26         1   2.090654 -1.312484  ...   -0.260986   -0.432283      -0.162501\n",
            "27         1   2.090654 -1.312484  ...   -0.490110   -0.624731      -1.019873\n",
            "28         1   2.090654 -1.317163  ...   -0.702681   -0.863989      -1.112686\n",
            "29         1   2.090654 -1.317163  ...   -0.490981   -0.588322      -0.798770\n",
            "...      ...        ...       ...  ...         ...         ...            ...\n",
            "16970      1  -2.298010  2.421129  ...   -0.469201   -0.349063      -1.204607\n",
            "16971      1  -2.298010  2.421129  ...   -0.585070   -0.473894      -1.064209\n",
            "16972      1  -2.298010  2.416450  ...   -0.227010   -0.049989      -1.003470\n",
            "16973      1  -2.298010  2.411772  ...   -0.608592   -0.453088      -1.177408\n",
            "16974      1  -2.298010  2.407093  ...   -0.382953   -0.369868      -0.870410\n",
            "16975      1  -2.298010  2.402414  ...   -0.381211   -0.315255      -0.564932\n",
            "16976      1  -2.298010  2.397735  ...   -0.416930   -0.385472       0.507307\n",
            "16977      1  -2.298010  2.336912  ...   -0.630372   -0.583120      -0.517661\n",
            "16978      1  -2.302997  2.416450  ...   -0.476171   -0.427082      -1.120756\n",
            "16979      1  -2.302997  2.411772  ...   -0.490110   -0.497299      -0.696996\n",
            "16980      1  -2.302997  2.411772  ...   -0.417801   -0.479095      -0.902902\n",
            "16981      1  -2.302997  2.411772  ...   -0.673931   -0.689747      -0.720055\n",
            "16982      1  -2.302997  2.336912  ...   -0.827261   -0.837983      -0.434963\n",
            "16983      1  -2.307984  2.879643  ...    0.187677    0.360912      -1.162472\n",
            "16984      1  -2.307984  2.411772  ...   -0.687870   -0.627331      -1.079250\n",
            "16985      1  -2.307984  2.407093  ...   -0.054514    0.212675      -0.755482\n",
            "16986      1  -2.307984  2.388378  ...    1.287121    1.224324      -0.181997\n",
            "16987      1  -2.317958  2.874964  ...    0.450777    0.379116      -0.683423\n",
            "16988      1  -2.317958  2.865607  ...    0.490852    0.571563      -0.983241\n",
            "16989      1  -2.317958  2.397735  ...   -0.705294   -0.606526      -1.169075\n",
            "16990      1  -2.322945  2.856249  ...    0.087490    0.394720      -1.142348\n",
            "16991      1  -2.327932  2.865607  ...   -0.075423   -0.057791      -0.735306\n",
            "16992      1  -2.327932  2.425808  ...   -0.771505   -0.856188      -0.281622\n",
            "16993      1  -2.327932  2.299482  ...   -0.241820   -0.172219      -0.420814\n",
            "16994      1  -2.337907  2.177836  ...   -0.867336   -0.817178      -1.017672\n",
            "16995      1  -2.342894  2.318197  ...   -0.455262   -0.343862      -0.799975\n",
            "16996      1  -2.347881  2.369663  ...   -0.205230   -0.094200      -0.715705\n",
            "16997      1  -2.362842  2.907715  ...   -0.161670   -0.117606      -0.446650\n",
            "16998      1  -2.362842  2.889000  ...   -0.114626   -0.060392      -0.997758\n",
            "16999      1  -2.387778  2.299482  ...   -0.543252   -0.601325      -0.455349\n",
            "\n",
            "[17000 rows x 9 columns]\n"
          ],
          "name": "stdout"
        },
        {
          "output_type": "execute_result",
          "data": {
            "text/plain": [
              "array([[ 0.01581258],\n",
              "       [-0.47350856],\n",
              "       [-0.51285023],\n",
              "       [ 0.17982832],\n",
              "       [-0.24835032],\n",
              "       [ 0.44340267],\n",
              "       [-0.35900244],\n",
              "       [ 0.22364419],\n",
              "       [ 0.7310238 ]])"
            ]
          },
          "metadata": {
            "tags": []
          },
          "execution_count": 51
        }
      ]
    },
    {
      "cell_type": "code",
      "metadata": {
        "id": "4qUX9TxZsABB",
        "colab_type": "code",
        "colab": {}
      },
      "source": [
        "  X = X_train.copy()\n"
      ],
      "execution_count": 0,
      "outputs": []
    },
    {
      "cell_type": "code",
      "metadata": {
        "id": "0ucZaUrLsfyt",
        "colab_type": "code",
        "colab": {}
      },
      "source": [
        "X"
      ],
      "execution_count": 0,
      "outputs": []
    }
  ]
}