{
  "nbformat": 4,
  "nbformat_minor": 0,
  "metadata": {
    "colab": {
      "name": "ridge.ipynb",
      "version": "0.3.2",
      "provenance": [],
      "collapsed_sections": [],
      "include_colab_link": true
    },
    "kernelspec": {
      "name": "python3",
      "display_name": "Python 3"
    },
    "accelerator": "GPU"
  },
  "cells": [
    {
      "cell_type": "markdown",
      "metadata": {
        "id": "view-in-github",
        "colab_type": "text"
      },
      "source": [
        "<a href=\"https://colab.research.google.com/github/saikgoli/ML-Python-implementations/blob/master/ridge.ipynb\" target=\"_parent\"><img src=\"https://colab.research.google.com/assets/colab-badge.svg\" alt=\"Open In Colab\"/></a>"
      ]
    },
    {
      "cell_type": "code",
      "metadata": {
        "id": "1UwuMKD2bLyy",
        "colab_type": "code",
        "colab": {}
      },
      "source": [
        "import numpy as np\n",
        "import pandas as pd\n",
        "import matplotlib.pyplot as plt\n",
        "import seaborn as sns\n"
      ],
      "execution_count": 0,
      "outputs": []
    },
    {
      "cell_type": "code",
      "metadata": {
        "id": "bGonBGU-bQvb",
        "colab_type": "code",
        "colab": {}
      },
      "source": [
        "df = pd.read_csv('sample_data/california_housing_train.csv')"
      ],
      "execution_count": 0,
      "outputs": []
    },
    {
      "cell_type": "code",
      "metadata": {
        "id": "poiA2whsDVyq",
        "colab_type": "code",
        "colab": {}
      },
      "source": [
        "def get_normalize(df):\n",
        "  return (df-df.mean())/df.std()\n",
        "\n",
        "def show_fig(MSE_,MSE0):  \n",
        "  plt.figure(figsize=(10,5))\n",
        "  plt.plot(MSE_)\n",
        "  plt.plot(MSE0)\n",
        "  plt.axis([0, ITER, 0, 1])\n",
        "  plt.grid(axis='y')\n",
        "  plt.show()\n"
      ],
      "execution_count": 0,
      "outputs": []
    },
    {
      "cell_type": "code",
      "metadata": {
        "id": "Ky6VdlyKGUcy",
        "colab_type": "code",
        "colab": {}
      },
      "source": [
        "df.isnull().sum()\n",
        "df = get_normalize(df)"
      ],
      "execution_count": 0,
      "outputs": []
    },
    {
      "cell_type": "code",
      "metadata": {
        "id": "G5Z1JroIG5YO",
        "colab_type": "code",
        "colab": {}
      },
      "source": [
        "\n",
        "y_train = df['median_house_value']\n",
        "X_train = df[df.columns[:-1]]\n"
      ],
      "execution_count": 0,
      "outputs": []
    },
    {
      "cell_type": "code",
      "metadata": {
        "id": "qt6UobiogCCP",
        "colab_type": "code",
        "colab": {}
      },
      "source": [
        "def get_r2(beta,X,y):\n",
        "  residuals = y-np.dot(X,beta)\n",
        "  RSS = np.linalg.norm(residuals)\n",
        "  y_mean = np.mean(y)\n",
        "  TSS = np.linalg.norm(y-y_mean)\n",
        "  return 1- RSS/TSS\n",
        "  "
      ],
      "execution_count": 0,
      "outputs": []
    },
    {
      "cell_type": "code",
      "metadata": {
        "id": "NTiwIoy_rGTc",
        "colab_type": "code",
        "colab": {}
      },
      "source": [
        "def ridge(X_train,y_train,lambda_=1,iter=1000,alpha = 0.01):\n",
        "\n",
        "  y = y_train[:,np.newaxis]  \n",
        "  X = X_train.copy()\n",
        "  X.insert(loc=0,value=1,column='const')\n",
        "  xcollen = X.shape[1] #get no.of colums\n",
        "\n",
        "  #Initilaze Constants and Vectors\n",
        "  beta = np.zeros(shape=(xcollen,1))\n",
        "  right = np.ones(shape=(xcollen,1))\n",
        "  ITER = iter\n",
        "  MSE=np.zeros(ITER)\n",
        "\n",
        "  for i in range(ITER):\n",
        "    #//*=> -(y-x.B)*X\n",
        "    inner_dot = (y-np.dot(X,beta))\n",
        "    left = -1*(inner_dot*X ).sum()\n",
        "    left = left[:,np.newaxis]\n",
        "\n",
        "    #ridge part of gradient \n",
        "    right[1:] = beta[1:]*lambda_\n",
        "    right = np.multiply(right,beta)\n",
        "\n",
        "    gradient  = left + right\n",
        "    grad_norm = get_normalize(gradient)\n",
        "\n",
        "    MSE[i] = np.linalg.norm(y-np.dot(X,beta))**2 / len(X)  \n",
        "\n",
        "    #update beta\n",
        "    beta = beta - alpha*grad_norm\n",
        "\n",
        "  return beta\n"
      ],
      "execution_count": 0,
      "outputs": []
    },
    {
      "cell_type": "code",
      "metadata": {
        "id": "yUvNsU7m1y0G",
        "colab_type": "code",
        "outputId": "13b113d4-f2b6-4078-b117-c7c6a439c901",
        "colab": {
          "base_uri": "https://localhost:8080/",
          "height": 182
        }
      },
      "source": [
        "ridge(X_train,y_train)"
      ],
      "execution_count": 61,
      "outputs": [
        {
          "output_type": "execute_result",
          "data": {
            "text/plain": [
              "array([[ 0.01581258],\n",
              "       [-0.47350856],\n",
              "       [-0.51285023],\n",
              "       [ 0.17982832],\n",
              "       [-0.24835032],\n",
              "       [ 0.44340267],\n",
              "       [-0.35900244],\n",
              "       [ 0.22364419],\n",
              "       [ 0.7310238 ]])"
            ]
          },
          "metadata": {
            "tags": []
          },
          "execution_count": 61
        }
      ]
    }
  ]
}